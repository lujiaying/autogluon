{
 "cells": [
  {
   "cell_type": "markdown",
   "metadata": {},
   "source": [
    "# Accelerate Inference Throughput via Cascaded Multi-layer Ensemble\n",
    ":label:`sec_cascade_infer`\n",
    "\n",
    "Below is a preliminary API design.\n",
    "\n",
    "`def predictor.fit_cascade()`\n",
    "-----------------\n",
    "Build a cascade of previously-trained models to achieve different trade-off of eval_metric and inference throughput, per user speicfy. This is invoked post `fit()` stage.  \n",
    "The cascade consist of two key components, the sequence of trained models and the short-circuit(early-exit) thresholds attached to each model member. Both components are found via Hyperparameter Optimization(HPO) process on validation dataset.\n",
    "\n",
    "```Python\n",
    "Parameters:\n",
    "    infer_limit: float, default = None\n",
    "        The inference time limit in seconds per row to achieve. This is not gurantee because.\n",
    "    infer_limit_batch_size: int, default = None\n",
    "        The batch size to use when predicting in bulk to estimate per-row inference time. Must be an integer greater than 0. If None and infer_limit is specified, will default to 10000.\n",
    "    build_cascade_algo: str, default = 'F2S+'\n",
    "        Valida values are: ['F2S', 'F2S+', 'Greedy', 'Greedy+']. F2S+ and Greedy+ are recommended.\n",
    "        'F2S' denotes Fast-to-Slow algorithm, where model in cascade is ordered by *pred_time_val_marginal*. 'Greedy' denotes Greedy Search algorithm, where the cascade model sequence is determined by a greedy search process. 'F2S+' and 'Greedy+' denotes the Plus version algorithm. In non-Plus cascade, each model member is a previously-trained model, e.g. ['KNN', 'Cat', 'RF', 'NN', 'WE_L2']. In the regarding Plus version, each model member is replaced by a newly fitted weighted_ensemble model of the trained model and its precedents, e.g. ['KNN', 'WE_L2-KNN_Cat', 'WE_L2-KNN_Cat_RF', 'WE_L2-KNN_Cat_RF_NN', 'WE_L2']. \n",
    "    hyperparameter_tune_kwargs: str or dict, default = None\n",
    "        HPO strategy and kwargs (i.e. how many HPO trials to run). \n",
    "        num_trials: int, default=1000\n",
    "        searcher: str, default='TPE'\n",
    "            Valid values are: ['TPE', 'Random'].\n",
    "        hpo_score_func: str, default='ag_goodness'\n",
    "            Valid values are: ['ag_goodness', 'eval_metric'].\n",
    "            'ag_goodness' is a AutoGluon pre-defined weighted sum score of eval_metric and inference throughput, with practise-based penalty that pushes the built cascade model to achieve strong (penalize severaly when eval_metric is close to random guess) and fast (penalize if cascade is too fast to focus more on eval_metric) performance for real-life application. 'eval_metric' is a score function that maxmize eval_metric within specified `infer_limit`.\n",
    "        Greedy_algo_config_num_trials: int, default=50\n",
    "            Greedy search cascade build algorithm involves a series of hpo trials for each configure during search process. This argument determine the number of trails to run for each configure. Recommed set a number less than 80 for reasonble duration.\n",
    "\n",
    "Returns: CascadeConfig\n",
    "```\n",
    "\n",
    "A `CascadeConfig` class is defined as a class that carries all necessary information of a built cascade.\n",
    "```Python\n",
    "@dataclass(frozen=True)\n",
    "class CascadeConfig:\n",
    "    model: Tuple[str]         # cascade model sequence. Length=N.  TODO: stores name, but WE_L2_cascadeBuilt2 is noe self-explanatory.\n",
    "    thresholds: Tuple[float]  # regarding short-circuit/early-exit thresholds. Length=N-1\n",
    "    pred_time_val: float\n",
    "    score_val: float\n",
    "    hpo_score: float\n",
    "    hpo_func_name: Optional[str] = None\n",
    "```\n"
   ]
  }
 ],
 "metadata": {
  "kernelspec": {
   "display_name": "Python 3 (ipykernel)",
   "language": "python",
   "name": "python3"
  },
  "language_info": {
   "name": "python",
   "version": "3.7.10"
  },
  "orig_nbformat": 4,
  "vscode": {
   "interpreter": {
    "hash": "31f2aee4e71d21fbe5cf8b01ff0e069b9275f58929596ceb00d14d90e3e16cd6"
   }
  }
 },
 "nbformat": 4,
 "nbformat_minor": 2
}
